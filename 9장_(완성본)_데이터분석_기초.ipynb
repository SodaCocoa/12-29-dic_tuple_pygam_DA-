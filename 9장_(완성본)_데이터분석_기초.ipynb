{
  "cells": [
    {
      "cell_type": "markdown",
      "metadata": {
        "colab_type": "text",
        "id": "view-in-github"
      },
      "source": [
        "<a href=\"https://colab.research.google.com/github/teacher-jiejie/Lets-get-it-Python-Lecture/blob/main/9%EC%9E%A5_(%EC%99%84%EC%84%B1%EB%B3%B8)_%EB%8D%B0%EC%9D%B4%ED%84%B0%EB%B6%84%EC%84%9D_%EA%B8%B0%EC%B4%88.ipynb\" target=\"_parent\"><img src=\"https://colab.research.google.com/assets/colab-badge.svg\" alt=\"Open In Colab\"/></a>"
      ]
    },
    {
      "cell_type": "markdown",
      "metadata": {
        "id": "uysixUXqPykY"
      },
      "source": [
        "# 0. 들어가기 전에, 한글 폰트 설정해주기\n",
        "\n",
        "#### 코랩에서 한글 폰트 설정\n",
        "1) 한글 폰트 코드 실행 \n",
        "\n",
        "```\n",
        "!sudo apt-get install -y fonts-nanum\n",
        "!sudo fc-cache -fv\n",
        "!rm ~/.cache/matplotlib -rf\n",
        "```\n",
        "\n",
        "2) 런타임 - 런타임 다시시작 \n",
        "\n",
        "3) 글꼴 지정 명령어 \n",
        "\n",
        "```\n",
        "plt.rc('font', family='NanumGothic')\n",
        "```\n",
        "\n"
      ]
    },
    {
      "cell_type": "code",
      "execution_count": 1,
      "metadata": {
        "colab": {
          "base_uri": "https://localhost:8080/"
        },
        "id": "gbH02KhmPw6_",
        "outputId": "e43199e5-a946-4192-f519-34a78d50b94f"
      },
      "outputs": [
        {
          "name": "stderr",
          "output_type": "stream",
          "text": [
            "'sudo'��(��) ���� �Ǵ� �ܺ� ����, ������ �� �ִ� ���α׷�, �Ǵ�\n",
            "��ġ ������ �ƴմϴ�.\n"
          ]
        },
        {
          "name": "stderr",
          "output_type": "stream",
          "text": [
            "'sudo'��(��) ���� �Ǵ� �ܺ� ����, ������ �� �ִ� ���α׷�, �Ǵ�\n",
            "��ġ ������ �ƴմϴ�.\n",
            "'rm'��(��) ���� �Ǵ� �ܺ� ����, ������ �� �ִ� ���α׷�, �Ǵ�\n",
            "��ġ ������ �ƴմϴ�.\n"
          ]
        }
      ],
      "source": [
        "!sudo apt-get install -y fonts-nanum\n",
        "!sudo fc-cache -fv\n",
        "!rm ~/.cache/matplotlib -rf"
      ]
    },
    {
      "cell_type": "markdown",
      "metadata": {
        "id": "R032dHnvuLca"
      },
      "source": [
        "# 1. 파일 업로드 \n",
        "\n",
        "#### csv 파일이란? \n",
        "comma seperated values의 약자로\n",
        "콤마(,)로 분리된 파일\n",
        "\n",
        "<img src='https://github.com/teacher-jiejie/allinone_AI/blob/images/18_csv%ED%8C%8C%EC%9D%BC.png?raw=true' width=800>\n",
        "\n",
        "\n",
        "\n",
        "```\n",
        "# 코랩에 파일 업로드하는 방법\n",
        " \n",
        "from google.colab import files\n",
        "uploaded = files.upload()\n",
        "```\n",
        "\n"
      ]
    },
    {
      "cell_type": "code",
      "execution_count": 2,
      "metadata": {
        "colab": {
          "base_uri": "https://localhost:8080/",
          "height": 76,
          "resources": {
            "http://localhost:8080/nbextensions/google.colab/files.js": {
              "data": "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",
              "headers": [
                [
                  "content-type",
                  "application/javascript"
                ]
              ],
              "ok": true,
              "status": 200,
              "status_text": ""
            }
          }
        },
        "id": "xMe9NjEmuO2o",
        "outputId": "86160fd2-9620-4a62-bff7-1381db469b17"
      },
      "outputs": [
        {
          "ename": "ModuleNotFoundError",
          "evalue": "No module named 'google'",
          "output_type": "error",
          "traceback": [
            "\u001b[1;31m---------------------------------------------------------------------------\u001b[0m",
            "\u001b[1;31mModuleNotFoundError\u001b[0m                       Traceback (most recent call last)",
            "Cell \u001b[1;32mIn[2], line 1\u001b[0m\n\u001b[1;32m----> 1\u001b[0m \u001b[38;5;28;01mfrom\u001b[39;00m \u001b[38;5;21;01mgoogle\u001b[39;00m\u001b[38;5;21;01m.\u001b[39;00m\u001b[38;5;21;01mcolab\u001b[39;00m \u001b[38;5;28;01mimport\u001b[39;00m files\n\u001b[0;32m      2\u001b[0m uploaded \u001b[38;5;241m=\u001b[39m files\u001b[38;5;241m.\u001b[39mupload()\n",
            "\u001b[1;31mModuleNotFoundError\u001b[0m: No module named 'google'"
          ]
        }
      ],
      "source": [
        "from google.colab import files\n",
        "uploaded = files.upload()"
      ]
    },
    {
      "cell_type": "markdown",
      "metadata": {
        "id": "856yefHCuK2D"
      },
      "source": [
        "### csv 파일을 파이썬으로 읽어오기 \n",
        "\n",
        "\n",
        "\n",
        "1.   파일 open\n",
        "2.   파일 읽기 reader\n",
        "3.   파일 헤더 건너뛰기\n",
        "4.   파일을 리스트로 바꾸기\n",
        "\n",
        "\n",
        "\n",
        "```\n",
        "# csv 라이브러리 임포트\n",
        "import csv \n",
        "\n",
        "f = open('파일명.csv')         # 파일 오픈\n",
        "data = csv.reader(f)         # 파일 읽기 reader\n",
        "next(data)                   # 파일 헤더 건너뛰기 \n",
        "data = list(data)            # 파일 리스트로 바꾸기\n",
        "```\n",
        "\n"
      ]
    },
    {
      "cell_type": "code",
      "execution_count": 30,
      "metadata": {
        "id": "--E-FxMCuRlC"
      },
      "outputs": [],
      "source": [
        "import csv \n",
        "#No such file or directory 해결법\n",
        "# 이파일을 card .csv가 있는 폴더에 저장 하던지\n",
        "#card.csv의 경로를 절대경로로 변경\n",
        " \n",
        "f = open('card.csv')         # 파일 오픈\n",
        "data = csv.reader(f)         # 파일 읽기 reader\n",
        "next(data)                   # 파일 헤더 건너뛰기 \n",
        "data = list(data)            # 파일 리스트로 바꾸기"
      ]
    },
    {
      "cell_type": "code",
      "execution_count": 31,
      "metadata": {
        "colab": {
          "base_uri": "https://localhost:8080/"
        },
        "id": "q3t86Z5LuRm7",
        "outputId": "6fe09813-e3e9-4cce-895b-759d4d4daac8"
      },
      "outputs": [
        {
          "name": "stdout",
          "output_type": "stream",
          "text": [
            "['2019-10-12 9:13', '1972753', '본', 'S&', '185', '네이버파이낸셜(주)', '546800', '일시불(A)', '부분취소']\n"
          ]
        }
      ],
      "source": [
        "print(data[0])"
      ]
    },
    {
      "cell_type": "markdown",
      "metadata": {
        "id": "QjjysIWDqm34"
      },
      "source": [
        "<img src='https://github.com/teacher-jiejie/allinone_AI/blob/images/64_%EC%B9%B4%EB%93%9C%EB%8D%B0%EC%9D%B4%ED%84%B0.png?raw=true'>"
      ]
    },
    {
      "cell_type": "code",
      "execution_count": 32,
      "metadata": {
        "colab": {
          "base_uri": "https://localhost:8080/"
        },
        "id": "AaAfV1s_qzOR",
        "outputId": "533bdee5-4275-4553-b54d-ff7e89fb1ca8"
      },
      "outputs": [
        {
          "data": {
            "text/plain": [
              "236"
            ]
          },
          "execution_count": 32,
          "metadata": {},
          "output_type": "execute_result"
        }
      ],
      "source": [
        "# 총 데이터의 개수는?\n",
        "len(data)"
      ]
    },
    {
      "cell_type": "markdown",
      "metadata": {
        "id": "mCKJAnCsuO7z"
      },
      "source": [
        "# 2. 데이터 다뤄보기"
      ]
    },
    {
      "cell_type": "markdown",
      "metadata": {
        "id": "89v0MUZ4y0uJ"
      },
      "source": [
        "<img src ='https://github.com/teacher-jiejie/allinone_AI/blob/images/19_%EB%8D%B0%EC%9D%B4%ED%84%B0%20%EA%B5%AC%EC%A1%B0.png?raw=true' width=600>"
      ]
    },
    {
      "cell_type": "code",
      "execution_count": 33,
      "metadata": {
        "id": "0SSz-ZSvuRrV"
      },
      "outputs": [
        {
          "name": "stdout",
          "output_type": "stream",
          "text": [
            "2019-10-12 9:13\n",
            "2019-10-12 11:56\n",
            "2019-10-13 9:16\n",
            "2019-10-14 1:32\n",
            "2019-10-14 7:06\n",
            "2019-10-15 23:32\n",
            "2019-10-16 8:00\n",
            "2019-10-16 16:04\n",
            "2019-10-17 1:13\n",
            "2019-10-17 20:19\n",
            "2019-10-17 20:28\n",
            "2019-10-17 20:35\n",
            "2019-10-17 22:43\n",
            "2019-10-18 9:23\n",
            "2019-10-18 13:07\n",
            "2019-10-18 15:48\n",
            "2019-10-19 20:51\n",
            "2019-10-20 11:05\n",
            "2019-10-20 19:41\n",
            "2019-10-20 20:41\n",
            "2019-10-21 8:02\n",
            "2019-10-21 9:01\n",
            "2019-10-21 19:39\n",
            "2019-10-22 0:20\n",
            "2019-10-22 19:13\n",
            "2019-10-23 14:33\n",
            "2019-10-23 17:11\n",
            "2019-10-23 17:15\n",
            "2019-10-24 8:14\n",
            "2019-10-24 16:02\n",
            "2019-10-24 17:49\n",
            "2019-10-24 20:10\n",
            "2019-10-25 7:44\n",
            "2019-10-25 15:36\n",
            "2019-10-25 16:51\n",
            "2019-10-25 16:58\n",
            "2019-10-26 14:37\n",
            "2019-10-27 1:29\n",
            "2019-10-27 1:35\n",
            "2019-10-27 2:46\n",
            "2019-10-27 21:07\n",
            "2019-10-28 0:47\n",
            "2019-10-28 17:40\n",
            "2019-10-28 17:45\n",
            "2019-10-28 23:42\n",
            "2019-10-29 13:53\n",
            "2019-10-29 15:45\n",
            "2019-10-29 18:19\n",
            "2019-10-30 7:48\n",
            "2019-10-30 9:15\n",
            "2019-10-30 16:48\n",
            "2019-10-30 17:06\n",
            "2019-10-31 8:34\n",
            "2019-10-31 11:14\n",
            "2019-10-31 11:37\n",
            "2019-10-31 14:54\n",
            "2019-11-01 9:25\n",
            "2019-11-01 16:57\n",
            "2019-11-01 17:25\n",
            "2019-11-01 19:40\n",
            "2019-11-01 21:41\n",
            "2019-11-01 22:30\n",
            "2019-11-02 12:14\n",
            "2019-11-02 15:53\n",
            "2019-11-02 16:45\n",
            "2019-11-02 17:18\n",
            "2019-11-02 17:41\n",
            "2019-11-03 9:00\n",
            "2019-11-03 12:00\n",
            "2019-11-03 12:08\n",
            "2019-11-03 17:19\n",
            "2019-11-04 13:27\n",
            "2019-11-04 13:43\n",
            "2019-11-04 13:50\n",
            "2019-11-04 14:13\n",
            "2019-11-04 14:21\n",
            "2019-11-04 15:16\n",
            "2019-11-04 20:29\n",
            "2019-11-04 20:36\n",
            "2019-11-04 22:17\n",
            "2019-11-05 5:03\n",
            "2019-11-05 13:42\n",
            "2019-11-05 17:54\n",
            "2019-11-05 18:01\n",
            "2019-11-06 0:23\n",
            "2019-11-06 9:49\n",
            "2019-11-06 16:45\n",
            "2019-11-07 8:00\n",
            "2019-11-07 8:04\n",
            "2019-11-07 9:32\n",
            "2019-11-07 10:47\n",
            "2019-11-07 11:03\n",
            "2019-11-07 16:36\n",
            "2019-11-07 19:32\n",
            "2019-11-08 9:32\n",
            "2019-11-08 15:50\n",
            "2019-11-08 16:10\n",
            "2019-11-08 19:50\n",
            "2019-11-08 20:11\n",
            "2019-11-09 9:53\n",
            "2019-11-09 11:03\n",
            "2019-11-09 12:58\n",
            "2019-11-09 22:02\n",
            "2019-11-10 8:44\n",
            "2019-11-10 13:42\n",
            "2019-11-10 14:33\n",
            "2019-11-10 14:40\n",
            "2019-11-10 16:29\n",
            "2019-11-11 16:50\n",
            "2019-11-11 17:02\n",
            "2019-11-11 17:12\n",
            "2019-11-12 16:30\n",
            "2019-11-12 16:55\n",
            "2019-11-12 16:56\n",
            "2019-11-13 14:29\n",
            "2019-11-13 14:49\n",
            "2019-11-13 19:14\n",
            "2019-11-13 22:51\n",
            "2019-11-14 6:29\n",
            "2019-11-14 6:39\n",
            "2019-11-14 17:15\n",
            "2019-11-14 17:48\n",
            "2019-11-15 9:07\n",
            "2019-11-15 15:01\n",
            "2019-11-15 16:26\n",
            "2019-11-15 16:26\n",
            "2019-11-15 18:02\n",
            "2019-11-15 18:24\n",
            "2019-11-15 19:01\n",
            "2019-11-15 19:01\n",
            "2019-11-16 6:39\n",
            "2019-11-16 6:47\n",
            "2019-11-16 19:56\n",
            "2019-11-16 20:09\n",
            "2019-11-16 20:12\n",
            "2019-11-16 21:24\n",
            "2019-11-22 6:50\n",
            "2019-11-22 16:50\n",
            "2019-11-22 23:45\n",
            "2019-11-23 18:02\n",
            "2019-11-24 12:51\n",
            "2019-11-24 18:44\n",
            "2019-11-25 10:18\n",
            "2019-11-25 10:35\n",
            "2019-11-25 17:54\n",
            "2019-11-26 16:47\n",
            "2019-11-27 10:21\n",
            "2019-11-27 13:06\n",
            "2019-11-27 17:11\n",
            "2019-11-27 17:27\n",
            "2019-11-28 7:51\n",
            "2019-11-28 8:01\n",
            "2019-11-28 13:02\n",
            "2019-11-28 13:19\n",
            "2019-11-28 13:42\n",
            "2019-11-28 16:37\n",
            "2019-11-30 9:55\n",
            "2019-11-30 17:08\n",
            "2019-11-30 20:28\n",
            "2019-11-30 21:38\n",
            "2019-12-01 13:31\n",
            "2019-12-02 17:04\n",
            "2019-12-02 17:35\n",
            "2019-12-03 16:40\n",
            "2019-12-04 8:44\n",
            "2019-12-04 17:03\n",
            "2019-12-06 2:09\n",
            "2019-12-07 20:21\n",
            "2019-12-08 14:26\n",
            "2019-12-08 17:18\n",
            "2019-12-09 7:31\n",
            "2019-12-09 8:00\n",
            "2019-12-09 8:43\n",
            "2019-12-09 20:43\n",
            "2019-12-09 23:11\n",
            "2019-12-10 8:10\n",
            "2019-12-11 11:18\n",
            "2019-12-12 16:44\n",
            "2019-12-13 7:52\n",
            "2019-12-13 8:08\n",
            "2019-12-13 8:08\n",
            "2019-12-13 16:31\n",
            "2019-12-13 16:35\n",
            "2019-12-14 23:07\n",
            "2019-12-15 12:46\n",
            "2019-12-15 14:23\n",
            "2019-12-15 14:25\n",
            "2019-12-15 14:42\n",
            "2019-12-15 14:42\n",
            "2019-12-15 15:06\n",
            "2019-12-15 15:19\n",
            "2019-12-15 16:00\n",
            "2019-12-15 16:19\n",
            "2019-12-15 16:19\n",
            "2019-12-15 16:38\n",
            "2019-12-15 17:01\n",
            "2019-12-15 17:03\n",
            "2019-12-15 18:43\n",
            "2019-12-15 19:23\n",
            "2019-12-16 14:00\n",
            "2019-12-16 23:02\n",
            "2019-12-17 15:41\n",
            "2019-12-17 15:55\n",
            "2019-12-17 18:08\n",
            "2019-12-18 7:58\n",
            "2019-12-18 11:36\n",
            "2019-12-19 1:58\n",
            "2019-12-19 9:49\n",
            "2019-12-20 11:58\n",
            "2019-12-20 16:06\n",
            "2019-12-20 22:31\n",
            "2019-12-22 16:41\n",
            "2019-12-23 17:23\n",
            "2019-12-23 18:41\n",
            "2019-12-23 19:56\n",
            "2019-12-24 8:09\n",
            "2019-12-24 15:22\n",
            "2019-12-24 15:50\n",
            "2019-12-25 18:27\n",
            "2019-12-25 21:04\n",
            "2019-12-26 16:09\n",
            "2019-12-26 16:22\n",
            "2019-12-26 16:22\n",
            "2019-12-26 17:13\n",
            "2019-12-27 7:43\n",
            "2019-12-27 7:43\n",
            "2019-12-29 17:53\n",
            "2019-12-29 18:20\n",
            "2019-12-29 18:58\n",
            "2019-12-29 19:36\n",
            "2019-12-30 8:18\n",
            "2019-12-30 17:59\n",
            "2019-12-31 12:35\n",
            "2019-12-31 12:43\n",
            "2019-12-31 12:50\n",
            "2019-12-31 14:12\n"
          ]
        }
      ],
      "source": [
        "# 카드이용일자 모두 출력하기\n",
        "for row in data : \n",
        "    print(row[0])"
      ]
    },
    {
      "cell_type": "code",
      "execution_count": 7,
      "metadata": {
        "id": "RIz2XBOey6wh"
      },
      "outputs": [
        {
          "name": "stdout",
          "output_type": "stream",
          "text": [
            "546800\n",
            "60440\n",
            "91520\n",
            "89810\n",
            "33600\n",
            "309600\n",
            "61983\n",
            "31600\n",
            "97000\n",
            "96000\n",
            "4200\n",
            "4200\n",
            "75000\n",
            "26410\n",
            "12500\n",
            "1300\n",
            "19000\n",
            "55995\n",
            "118000\n",
            "269000\n",
            "251000\n",
            "75600\n",
            "61800\n",
            "40900\n",
            "4400\n",
            "10000\n",
            "21400\n",
            "63000\n",
            "207000\n",
            "48000\n",
            "23200\n",
            "23100\n",
            "10000\n",
            "50000\n",
            "5300\n",
            "3990\n",
            "11900\n",
            "112845\n",
            "161598\n",
            "16241\n",
            "19000\n",
            "28500\n",
            "4000\n",
            "7000\n",
            "66046\n",
            "139500\n",
            "86300\n",
            "64900\n",
            "30000\n",
            "119600\n",
            "1500\n",
            "18700\n",
            "110110\n",
            "116000\n",
            "12648\n",
            "115700\n",
            "87500\n",
            "100\n",
            "81540\n",
            "56500\n",
            "118400\n",
            "4700\n",
            "262600\n",
            "278600\n",
            "55200\n",
            "26000\n",
            "163080\n",
            "339125\n",
            "5000\n",
            "52000\n",
            "7830\n",
            "68500\n",
            "42020\n",
            "16800\n",
            "8100\n",
            "55200\n",
            "2300\n",
            "36500\n",
            "33000\n",
            "15500\n",
            "131700\n",
            "30000\n",
            "56000\n",
            "13200\n",
            "11500\n",
            "50000\n",
            "32700\n",
            "476736\n",
            "283053\n",
            "4075\n",
            "31480\n",
            "67450\n",
            "1600\n",
            "5900\n",
            "152430\n",
            "4300\n",
            "13900\n",
            "29600\n",
            "1500\n",
            "19800\n",
            "54600\n",
            "49000\n",
            "3000\n",
            "29000\n",
            "285000\n",
            "61200\n",
            "100900\n",
            "17000\n",
            "62600\n",
            "16500\n",
            "9200\n",
            "5000\n",
            "48880\n",
            "12000\n",
            "7100\n",
            "6800\n",
            "30720\n",
            "27710\n",
            "4900\n",
            "5000\n",
            "14000\n",
            "10100\n",
            "218246\n",
            "22400\n",
            "27900\n",
            "1000\n",
            "6000\n",
            "10400\n",
            "10400\n",
            "1000\n",
            "5800\n",
            "5600\n",
            "76000\n",
            "5000\n",
            "8000\n",
            "14400\n",
            "8000\n",
            "9400\n",
            "36900\n",
            "22000\n",
            "19000\n",
            "19000\n",
            "9000\n",
            "40750\n",
            "6650\n",
            "1200\n",
            "61194\n",
            "27000\n",
            "5400\n",
            "24100\n",
            "4900\n",
            "5300\n",
            "82600\n",
            "160000\n",
            "240\n",
            "16800\n",
            "68500\n",
            "15000\n",
            "24000\n",
            "71500\n",
            "20000\n",
            "1900\n",
            "15450\n",
            "39200\n",
            "35700\n",
            "5000\n",
            "78200\n",
            "28500\n",
            "47911\n",
            "29000\n",
            "7980\n",
            "10000\n",
            "24840\n",
            "23900\n",
            "60800\n",
            "20110\n",
            "9300\n",
            "58610\n",
            "7300\n",
            "1000\n",
            "5900\n",
            "23000\n",
            "14800\n",
            "10700\n",
            "20000\n",
            "60000\n",
            "9100\n",
            "7700\n",
            "1000\n",
            "4200\n",
            "15300\n",
            "8200\n",
            "8700\n",
            "1000\n",
            "6300\n",
            "5700\n",
            "2800\n",
            "35800\n",
            "13500\n",
            "9500\n",
            "40420\n",
            "3800\n",
            "5100\n",
            "4900\n",
            "15480\n",
            "12000\n",
            "14860\n",
            "10000\n",
            "7600\n",
            "69490\n",
            "25200\n",
            "29000\n",
            "33670\n",
            "4530\n",
            "19110\n",
            "100000\n",
            "15000\n",
            "8800\n",
            "7500\n",
            "43630\n",
            "5500\n",
            "1000\n",
            "4900\n",
            "16800\n",
            "53961\n",
            "9290\n",
            "14400\n",
            "350676\n",
            "24300\n",
            "136400\n",
            "46920\n",
            "16800\n",
            "51502\n",
            "9200\n",
            "15000\n",
            "16640\n"
          ]
        }
      ],
      "source": [
        "# 카드 사용금액 모두 출력하기\n",
        "for row in data : \n",
        "    print(row[-3])"
      ]
    },
    {
      "cell_type": "markdown",
      "metadata": {
        "id": "RzWt9ggxy7Ap"
      },
      "source": [
        "<img src ='https://github.com/teacher-jiejie/allinone_AI/blob/images/20_%EB%8D%B0%EC%9D%B4%ED%84%B0%EB%B6%84%EC%84%9D%20%EB%B0%98%EB%B3%B5%EB%AC%B8.png?raw=true' width=800>"
      ]
    },
    {
      "cell_type": "code",
      "execution_count": 34,
      "metadata": {
        "id": "JdHc9hvCy6y7"
      },
      "outputs": [
        {
          "name": "stdout",
          "output_type": "stream",
          "text": [
            "네이버파이낸셜(주) 에서 546800 원 사용\n",
            "GS  샵 에서 60440 원 사용\n",
            "G마켓 에서 91520 원 사용\n",
            "11번가 에서 89810 원 사용\n",
            "네이버파이낸셜(주) 에서 33600 원 사용\n",
            "네이버파이낸셜(주) 에서 309600 원 사용\n",
            "SSG.COM 에서 61983 원 사용\n",
            "(주)에이랜드 타임스퀘어 에서 31600 원 사용\n",
            "(주)어패럴컴퍼니 에서 97000 원 사용\n",
            "(주)곱 에서 96000 원 사용\n",
            "카카오택시(선승인) 에서 4200 원 사용\n",
            "카카오페이(택시) 에서 4200 원 사용\n",
            "포도당 에서 75000 원 사용\n",
            "에뛰드 에서 26410 원 사용\n",
            "네이버파이낸셜(주) 에서 12500 원 사용\n",
            "미니스톱신촌점 에서 1300 원 사용\n",
            "(주)우아한형제들 에서 19000 원 사용\n",
            "프렌트립 에서 55995 원 사용\n",
            "네이버파이낸셜(주) 에서 118000 원 사용\n",
            "네이버파이낸셜(주) 에서 269000 원 사용\n",
            "ZARA 에서 251000 원 사용\n",
            "네이버파이낸셜(주) 에서 75600 원 사용\n",
            "스패뉴시청지점 에서 61800 원 사용\n",
            "네이버파이낸셜(주) 에서 40900 원 사용\n",
            "티머니 개인택시 에서 4400 원 사용\n",
            "스타벅스코리아 에서 10000 원 사용\n",
            "(주)우아한형제들 에서 21400 원 사용\n",
            "(주)우아한형제들 에서 63000 원 사용\n",
            "전화결제 에서 207000 원 사용\n",
            "케이데코(K Deco) 에서 48000 원 사용\n",
            "씨제이올리브영(주)합정메세나폴 에서 23200 원 사용\n",
            "타르타르홍대점 에서 23100 원 사용\n",
            "스타벅스코리아 에서 10000 원 사용\n",
            "연세내과의원 에서 50000 원 사용\n",
            "나폴레옹과자점 에서 5300 원 사용\n",
            "홈플러스익스프레스신촌점 에서 3990 원 사용\n",
            "(주)우아한형제들 에서 11900 원 사용\n",
            "(주)신세계면세점 명동점 에서 112845 원 사용\n",
            "(주)신세계면세점 명동점 에서 161598 원 사용\n",
            "롯데E커머스 에서 16241 원 사용\n",
            "(주)우아한형제들 에서 19000 원 사용\n",
            "(주)에스쁘아 에서 28500 원 사용\n",
            "(주)현대백화점신촌점 에서 4000 원 사용\n",
            "(주)현대백화점신촌점 에서 7000 원 사용\n",
            "SSG.COM 에서 66046 원 사용\n",
            "네이버파이낸셜(주) 에서 139500 원 사용\n",
            "네이버파이낸셜(주) 에서 86300 원 사용\n",
            "네이버파이낸셜(주) 에서 64900 원 사용\n",
            "스타벅스코리아 에서 30000 원 사용\n",
            "(주)타임어택 에서 119600 원 사용\n",
            "GS25 문래미원점 에서 1500 원 사용\n",
            "(주)라크라센타본점 에서 18700 원 사용\n",
            "G마켓 에서 110110 원 사용\n",
            "네이버파이낸셜(주) 에서 116000 원 사용\n",
            "SSG.COM 에서 12648 원 사용\n",
            "크로키닷컴 에서 115700 원 사용\n",
            "네이버파이낸셜(주) 에서 87500 원 사용\n",
            "(주)이랜드월드영등포타임스퀘어 에서 100 원 사용\n",
            "네이버파이낸셜(주) 에서 81540 원 사용\n",
            "빠레뜨한남 에서 56500 원 사용\n",
            "네이버파이낸셜(주) 에서 118400 원 사용\n",
            "티머니 개인택시 에서 4700 원 사용\n",
            "네이버파이낸셜(주) 에서 262600 원 사용\n",
            "(주)신세계백화점강남점 에서 278600 원 사용\n",
            "(주)신세계백화점강남점 에서 55200 원 사용\n",
            "(주)엔터식스패션쇼핑몰 강남점 에서 26000 원 사용\n",
            "네이버파이낸셜(주) 에서 163080 원 사용\n",
            "신라면세점 에서 339125 원 사용\n",
            "어반플랜트 에서 5000 원 사용\n",
            "어반플랜트 에서 52000 원 사용\n",
            "곤트란쉐리에 합정점 에서 7830 원 사용\n",
            "(주)갈라인터내셔널 에서 68500 원 사용\n",
            "씨제이올리브영(주)신세계 에서 42020 원 사용\n",
            "카페마마스타임스퀘어점 에서 16800 원 사용\n",
            "티머니 개인택시 에서 8100 원 사용\n",
            "연세내과의원 에서 55200 원 사용\n",
            "조아약국 에서 2300 원 사용\n",
            "(주)우아한형제들 에서 36500 원 사용\n",
            "(주)우아한형제들 에서 33000 원 사용\n",
            "(주)우아한형제들 에서 15500 원 사용\n",
            "네이버파이낸셜(주) 에서 131700 원 사용\n",
            "스타벅스코리아 에서 30000 원 사용\n",
            "(주)현대백화점신촌점 에서 56000 원 사용\n",
            "(주)현대백화점신촌점 에서 13200 원 사용\n",
            "씨유신촌제일점 에서 11500 원 사용\n",
            "롯데역사(주) 에서 50000 원 사용\n",
            "(주)이마트  신촌점 에서 32700 원 사용\n",
            "스마일페이 (신라면세점) 에서 476736 원 사용\n",
            "스마일페이 (신라면세점) 에서 283053 원 사용\n",
            "(주)디지탈명성텍 에서 4075 원 사용\n",
            "크로키닷컴 에서 31480 원 사용\n",
            "네이버파이낸셜(주) 에서 67450 원 사용\n",
            "CU 오목교스퀘어점 에서 1600 원 사용\n",
            "써브웨이 오목교점 에서 5900 원 사용\n",
            "크로키닷컴 에서 152430 원 사용\n",
            "갤러리아명품관식품 에서 4300 원 사용\n",
            "갤러리아명품관식품 에서 13900 원 사용\n",
            "씨제이올리브영(주) 신촌역점 에서 29600 원 사용\n",
            "씨유신촌제일점 에서 1500 원 사용\n",
            "네이버파이낸셜(주) 에서 19800 원 사용\n",
            "연세내과의원 에서 54600 원 사용\n",
            "(주)이마트  신촌점 에서 49000 원 사용\n",
            "파리바게뜨 (신촌점) 에서 3000 원 사용\n",
            "(주)다른코스메틱스 에서 29000 원 사용\n",
            "이유 에서 285000 원 사용\n",
            "11번가 에서 61200 원 사용\n",
            "11번가 에서 100900 원 사용\n",
            "(주)우아한형제들 에서 17000 원 사용\n",
            "(주)현대백화점신촌점 에서 62600 원 사용\n",
            "(주)현대백화점신촌점 에서 16500 원 사용\n",
            "씨제이올리브영(주) 신촌 에서 9200 원 사용\n",
            "주식회사 아성다이소 에서 5000 원 사용\n",
            "(주)이마트  신촌점 에서 48880 원 사용\n",
            "마트온누리약국 에서 12000 원 사용\n",
            "카카오택시(선승인) 에서 7100 원 사용\n",
            "카카오페이(택시) 에서 6800 원 사용\n",
            "SSG.COM 에서 30720 원 사용\n",
            "SSG.COM 에서 27710 원 사용\n",
            "카카오택시(선승인) 에서 4900 원 사용\n",
            "카카오페이(택시) 에서 5000 원 사용\n",
            "카페마마스타임스퀘어점 에서 14000 원 사용\n",
            "티머니 개인택시 에서 10100 원 사용\n",
            "스마일페이 (신라면세점) 에서 218246 원 사용\n",
            "카카오택시(선승인) 에서 22400 원 사용\n",
            "카카오페이(택시) 에서 27900 원 사용\n",
            "카카오 T_카카오페이 에서 1000 원 사용\n",
            "주식회사 아성다이소 에서 6000 원 사용\n",
            "카카오택시(선승인) 에서 10400 원 사용\n",
            "카카오페이(택시) 에서 10400 원 사용\n",
            "카카오 T_카카오페이 에서 1000 원 사용\n",
            "카카오택시(선승인) 에서 5800 원 사용\n",
            "카카오페이(택시) 에서 5600 원 사용\n",
            "밸런스약국 에서 76000 원 사용\n",
            "씨제이올리브영(주)인천공항제2 에서 5000 원 사용\n",
            "씨제이올리브영(주)인천공항제2 에서 8000 원 사용\n",
            "잠바주스 인천공항T2-3호점 에서 14400 원 사용\n",
            "(주)아워홈푸디움인천공항제2터 에서 8000 원 사용\n",
            "(주)우아한형제들 에서 9400 원 사용\n",
            "네이버파이낸셜(주) 에서 36900 원 사용\n",
            "배스킨라빈스  분당파크타운 에서 22000 원 사용\n",
            "(주)우아한형제들 에서 19000 원 사용\n",
            "(주)우아한형제들 에서 19000 원 사용\n",
            "네이버파이낸셜(주) 에서 9000 원 사용\n",
            "아모레퍼시픽 에서 40750 원 사용\n",
            "한살림서울생활협동조합신촌매장 에서 6650 원 사용\n",
            "씨유신촌제일점 에서 1200 원 사용\n",
            "SSG.COM 에서 61194 원 사용\n",
            "네이버파이낸셜(주) 에서 27000 원 사용\n",
            "파리크라상 연세세브란스점 에서 5400 원 사용\n",
            "(주)현대백화점신촌점 에서 24100 원 사용\n",
            "카카오택시(선승인) 에서 4900 원 사용\n",
            "카카오페이(택시) 에서 5300 원 사용\n",
            "한국철도공사 (직승인) 에서 82600 원 사용\n",
            "(주)인터파크 에서 160000 원 사용\n",
            "우정사업본부(우체국) 에서 240 원 사용\n",
            "카페마마스타임스퀘어점 에서 16800 원 사용\n",
            "네이버파이낸셜(주) 에서 68500 원 사용\n",
            "(주)우아한형제들 에서 15000 원 사용\n",
            "네이버파이낸셜(주) 에서 24000 원 사용\n",
            "네이버파이낸셜(주) 에서 71500 원 사용\n",
            "(주)스타벅스커피코리아 에서 20000 원 사용\n",
            "파리바게뜨  양평비즈타워점 에서 1900 원 사용\n",
            "한살림서울생활협동조합신촌매장 에서 15450 원 사용\n",
            "(주)이마트  신촌점 에서 39200 원 사용\n",
            "에프알엘코리아(주) 에서 35700 원 사용\n",
            "(주)현대백화점신촌점 에서 5000 원 사용\n",
            "쿠팡 에서 78200 원 사용\n",
            "(주)우아한형제들 에서 28500 원 사용\n",
            "SSG.COM 에서 47911 원 사용\n",
            "(주)우아한형제들 에서 29000 원 사용\n",
            "SSG.COM 에서 7980 원 사용\n",
            "스타벅스코리아 에서 10000 원 사용\n",
            "쿠팡 에서 24840 원 사용\n",
            "네이버파이낸셜(주) 에서 23900 원 사용\n",
            "㈜젠코스메티코스 에서 60800 원 사용\n",
            "네이버파이낸셜(주) 에서 20110 원 사용\n",
            "쿠팡 에서 9300 원 사용\n",
            "(주)이마트  신촌점 에서 58610 원 사용\n",
            "카카오택시(선승인) 에서 7300 원 사용\n",
            "카카오 T_카카오페이 에서 1000 원 사용\n",
            "카카오페이(택시) 에서 5900 원 사용\n",
            "웃는하루치과 에서 23000 원 사용\n",
            "(주)파리크라상 쉐이크쉑 AK분당 에서 14800 원 사용\n",
            "CU 대구중구문화점 에서 10700 원 사용\n",
            "(주)스타벅스커피코리아 에서 20000 원 사용\n",
            "낙영찜갈비 에서 60000 원 사용\n",
            "카카오페이(택시)7 에서 9100 원 사용\n",
            "카카오페이(택시)1 에서 7700 원 사용\n",
            "카카오페이(택시) 에서 1000 원 사용\n",
            "지에스 25 수성유원지점 에서 4200 원 사용\n",
            "우즈베이커리카페 수성호수점 에서 15300 원 사용\n",
            "카카오페이(택시)7 에서 8200 원 사용\n",
            "카카오페이(택시)1 에서 8700 원 사용\n",
            "카카오페이(택시) 에서 1000 원 사용\n",
            "디지비유페이택시개인1 에서 6300 원 사용\n",
            "코레일유통(주)대구지점 에서 5700 원 사용\n",
            "코레일유통(주)대구지점 에서 2800 원 사용\n",
            "네이버파이낸셜(주) 에서 35800 원 사용\n",
            "티머니 법인택시 에서 13500 원 사용\n",
            "나폴레옹과자점 에서 9500 원 사용\n",
            "네이버파이낸셜(주) 에서 40420 원 사용\n",
            "티머니 법인택시 에서 3800 원 사용\n",
            "투썸플레이스 교대역점 에서 5100 원 사용\n",
            "고스트요거트 에서 4900 원 사용\n",
            "네이버파이낸셜(주) 에서 15480 원 사용\n",
            "(주)우아한형제들 에서 12000 원 사용\n",
            "(주)교보문고 에서 14860 원 사용\n",
            "스타벅스코리아 에서 10000 원 사용\n",
            "쉐프조 에서 7600 원 사용\n",
            "쿠팡 에서 69490 원 사용\n",
            "(주)우아한형제들 에서 25200 원 사용\n",
            "나폴레옹과자점 에서 29000 원 사용\n",
            "(주)이마트  신촌점 에서 33670 원 사용\n",
            "(주)우아한형제들 에서 4530 원 사용\n",
            "쿠팡 에서 19110 원 사용\n",
            "이니시스-정기과금 에서 100000 원 사용\n",
            "(주)현대백화점신촌점 에서 15000 원 사용\n",
            "나폴레옹과자점 에서 8800 원 사용\n",
            "고봉민김밥 에서 7500 원 사용\n",
            "(주)이마트  신촌점 에서 43630 원 사용\n",
            "카카오택시(선승인) 에서 5500 원 사용\n",
            "카카오 T_카카오페이 에서 1000 원 사용\n",
            "카카오페이(택시) 에서 4900 원 사용\n",
            "카페마마스타임스퀘어점 에서 16800 원 사용\n",
            "SSG.COM 에서 53961 원 사용\n",
            "쿠팡 에서 9290 원 사용\n",
            "KFC서울타임스퀘어 에서 14400 원 사용\n",
            "네이버페이 에서 350676 원 사용\n",
            "네이버페이 에서 24300 원 사용\n",
            "(주)현대백화점신촌점 에서 136400 원 사용\n",
            "쿠팡 에서 46920 원 사용\n",
            "카페마마스  강남역지점 에서 16800 원 사용\n",
            "(주)현대백화점신촌점 에서 51502 원 사용\n",
            "(주)현대백화점신촌점 에서 9200 원 사용\n",
            "(주)현대백화점신촌점 에서 15000 원 사용\n",
            "쿠팡 에서 16640 원 사용\n"
          ]
        }
      ],
      "source": [
        "# 카드 사용처와 금액 모두 출력하기\n",
        "for row in data : \n",
        "    print(row[5],'에서',row[6],'원 사용')"
      ]
    },
    {
      "cell_type": "code",
      "execution_count": 35,
      "metadata": {
        "id": "NgwKIIVszjfN"
      },
      "outputs": [
        {
          "name": "stdout",
          "output_type": "stream",
          "text": [
            "네이버파이낸셜(주) 에서 546800 원 사용\n",
            "GS  샵 에서 60440 원 사용\n",
            "G마켓 에서 91520 원 사용\n",
            "11번가 에서 89810 원 사용\n",
            "네이버파이낸셜(주) 에서 33600 원 사용\n",
            "네이버파이낸셜(주) 에서 309600 원 사용\n",
            "SSG.COM 에서 61983 원 사용\n",
            "(주)에이랜드 타임스퀘어 에서 31600 원 사용\n",
            "(주)어패럴컴퍼니 에서 97000 원 사용\n",
            "(주)곱 에서 96000 원 사용\n",
            "카카오택시(선승인) 에서 4200 원 사용\n",
            "카카오페이(택시) 에서 4200 원 사용\n",
            "포도당 에서 75000 원 사용\n",
            "에뛰드 에서 26410 원 사용\n",
            "네이버파이낸셜(주) 에서 12500 원 사용\n",
            "미니스톱신촌점 에서 1300 원 사용\n",
            "(주)우아한형제들 에서 19000 원 사용\n",
            "프렌트립 에서 55995 원 사용\n",
            "네이버파이낸셜(주) 에서 118000 원 사용\n",
            "네이버파이낸셜(주) 에서 269000 원 사용\n",
            "ZARA 에서 251000 원 사용\n",
            "네이버파이낸셜(주) 에서 75600 원 사용\n",
            "스패뉴시청지점 에서 61800 원 사용\n",
            "네이버파이낸셜(주) 에서 40900 원 사용\n",
            "티머니 개인택시 에서 4400 원 사용\n",
            "스타벅스코리아 에서 10000 원 사용\n",
            "(주)우아한형제들 에서 21400 원 사용\n",
            "(주)우아한형제들 에서 63000 원 사용\n",
            "전화결제 에서 207000 원 사용\n",
            "케이데코(K Deco) 에서 48000 원 사용\n",
            "씨제이올리브영(주)합정메세나폴 에서 23200 원 사용\n",
            "타르타르홍대점 에서 23100 원 사용\n",
            "스타벅스코리아 에서 10000 원 사용\n",
            "연세내과의원 에서 50000 원 사용\n",
            "나폴레옹과자점 에서 5300 원 사용\n",
            "홈플러스익스프레스신촌점 에서 3990 원 사용\n",
            "(주)우아한형제들 에서 11900 원 사용\n",
            "(주)신세계면세점 명동점 에서 112845 원 사용\n",
            "(주)신세계면세점 명동점 에서 161598 원 사용\n",
            "롯데E커머스 에서 16241 원 사용\n",
            "(주)우아한형제들 에서 19000 원 사용\n",
            "(주)에스쁘아 에서 28500 원 사용\n",
            "(주)현대백화점신촌점 에서 4000 원 사용\n",
            "(주)현대백화점신촌점 에서 7000 원 사용\n",
            "SSG.COM 에서 66046 원 사용\n",
            "네이버파이낸셜(주) 에서 139500 원 사용\n",
            "네이버파이낸셜(주) 에서 86300 원 사용\n",
            "네이버파이낸셜(주) 에서 64900 원 사용\n",
            "스타벅스코리아 에서 30000 원 사용\n",
            "(주)타임어택 에서 119600 원 사용\n",
            "GS25 문래미원점 에서 1500 원 사용\n",
            "(주)라크라센타본점 에서 18700 원 사용\n",
            "G마켓 에서 110110 원 사용\n",
            "네이버파이낸셜(주) 에서 116000 원 사용\n",
            "SSG.COM 에서 12648 원 사용\n",
            "크로키닷컴 에서 115700 원 사용\n",
            "네이버파이낸셜(주) 에서 87500 원 사용\n",
            "(주)이랜드월드영등포타임스퀘어 에서 100 원 사용\n",
            "네이버파이낸셜(주) 에서 81540 원 사용\n",
            "빠레뜨한남 에서 56500 원 사용\n",
            "네이버파이낸셜(주) 에서 118400 원 사용\n",
            "티머니 개인택시 에서 4700 원 사용\n",
            "네이버파이낸셜(주) 에서 262600 원 사용\n",
            "(주)신세계백화점강남점 에서 278600 원 사용\n",
            "(주)신세계백화점강남점 에서 55200 원 사용\n",
            "(주)엔터식스패션쇼핑몰 강남점 에서 26000 원 사용\n",
            "네이버파이낸셜(주) 에서 163080 원 사용\n",
            "신라면세점 에서 339125 원 사용\n",
            "어반플랜트 에서 5000 원 사용\n",
            "어반플랜트 에서 52000 원 사용\n",
            "곤트란쉐리에 합정점 에서 7830 원 사용\n",
            "(주)갈라인터내셔널 에서 68500 원 사용\n",
            "씨제이올리브영(주)신세계 에서 42020 원 사용\n",
            "카페마마스타임스퀘어점 에서 16800 원 사용\n",
            "티머니 개인택시 에서 8100 원 사용\n",
            "연세내과의원 에서 55200 원 사용\n",
            "조아약국 에서 2300 원 사용\n",
            "(주)우아한형제들 에서 36500 원 사용\n",
            "(주)우아한형제들 에서 33000 원 사용\n",
            "(주)우아한형제들 에서 15500 원 사용\n",
            "네이버파이낸셜(주) 에서 131700 원 사용\n",
            "스타벅스코리아 에서 30000 원 사용\n",
            "(주)현대백화점신촌점 에서 56000 원 사용\n",
            "(주)현대백화점신촌점 에서 13200 원 사용\n",
            "씨유신촌제일점 에서 11500 원 사용\n",
            "롯데역사(주) 에서 50000 원 사용\n",
            "(주)이마트  신촌점 에서 32700 원 사용\n",
            "스마일페이 (신라면세점) 에서 476736 원 사용\n",
            "스마일페이 (신라면세점) 에서 283053 원 사용\n",
            "(주)디지탈명성텍 에서 4075 원 사용\n",
            "크로키닷컴 에서 31480 원 사용\n",
            "네이버파이낸셜(주) 에서 67450 원 사용\n",
            "CU 오목교스퀘어점 에서 1600 원 사용\n",
            "써브웨이 오목교점 에서 5900 원 사용\n",
            "크로키닷컴 에서 152430 원 사용\n",
            "갤러리아명품관식품 에서 4300 원 사용\n",
            "갤러리아명품관식품 에서 13900 원 사용\n",
            "씨제이올리브영(주) 신촌역점 에서 29600 원 사용\n",
            "씨유신촌제일점 에서 1500 원 사용\n",
            "네이버파이낸셜(주) 에서 19800 원 사용\n",
            "연세내과의원 에서 54600 원 사용\n",
            "(주)이마트  신촌점 에서 49000 원 사용\n",
            "파리바게뜨 (신촌점) 에서 3000 원 사용\n",
            "(주)다른코스메틱스 에서 29000 원 사용\n",
            "이유 에서 285000 원 사용\n",
            "11번가 에서 61200 원 사용\n",
            "11번가 에서 100900 원 사용\n",
            "(주)우아한형제들 에서 17000 원 사용\n",
            "(주)현대백화점신촌점 에서 62600 원 사용\n",
            "(주)현대백화점신촌점 에서 16500 원 사용\n",
            "씨제이올리브영(주) 신촌 에서 9200 원 사용\n",
            "주식회사 아성다이소 에서 5000 원 사용\n",
            "(주)이마트  신촌점 에서 48880 원 사용\n",
            "마트온누리약국 에서 12000 원 사용\n",
            "카카오택시(선승인) 에서 7100 원 사용\n",
            "카카오페이(택시) 에서 6800 원 사용\n",
            "SSG.COM 에서 30720 원 사용\n",
            "SSG.COM 에서 27710 원 사용\n",
            "카카오택시(선승인) 에서 4900 원 사용\n",
            "카카오페이(택시) 에서 5000 원 사용\n",
            "카페마마스타임스퀘어점 에서 14000 원 사용\n",
            "티머니 개인택시 에서 10100 원 사용\n",
            "스마일페이 (신라면세점) 에서 218246 원 사용\n",
            "카카오택시(선승인) 에서 22400 원 사용\n",
            "카카오페이(택시) 에서 27900 원 사용\n",
            "카카오 T_카카오페이 에서 1000 원 사용\n",
            "주식회사 아성다이소 에서 6000 원 사용\n",
            "카카오택시(선승인) 에서 10400 원 사용\n",
            "카카오페이(택시) 에서 10400 원 사용\n",
            "카카오 T_카카오페이 에서 1000 원 사용\n",
            "카카오택시(선승인) 에서 5800 원 사용\n",
            "카카오페이(택시) 에서 5600 원 사용\n",
            "밸런스약국 에서 76000 원 사용\n",
            "씨제이올리브영(주)인천공항제2 에서 5000 원 사용\n",
            "씨제이올리브영(주)인천공항제2 에서 8000 원 사용\n",
            "잠바주스 인천공항T2-3호점 에서 14400 원 사용\n",
            "(주)아워홈푸디움인천공항제2터 에서 8000 원 사용\n",
            "(주)우아한형제들 에서 9400 원 사용\n",
            "네이버파이낸셜(주) 에서 36900 원 사용\n",
            "배스킨라빈스  분당파크타운 에서 22000 원 사용\n",
            "(주)우아한형제들 에서 19000 원 사용\n",
            "(주)우아한형제들 에서 19000 원 사용\n",
            "네이버파이낸셜(주) 에서 9000 원 사용\n",
            "아모레퍼시픽 에서 40750 원 사용\n",
            "한살림서울생활협동조합신촌매장 에서 6650 원 사용\n",
            "씨유신촌제일점 에서 1200 원 사용\n",
            "SSG.COM 에서 61194 원 사용\n",
            "네이버파이낸셜(주) 에서 27000 원 사용\n",
            "파리크라상 연세세브란스점 에서 5400 원 사용\n",
            "(주)현대백화점신촌점 에서 24100 원 사용\n",
            "카카오택시(선승인) 에서 4900 원 사용\n",
            "카카오페이(택시) 에서 5300 원 사용\n",
            "한국철도공사 (직승인) 에서 82600 원 사용\n",
            "(주)인터파크 에서 160000 원 사용\n",
            "우정사업본부(우체국) 에서 240 원 사용\n",
            "카페마마스타임스퀘어점 에서 16800 원 사용\n",
            "네이버파이낸셜(주) 에서 68500 원 사용\n",
            "(주)우아한형제들 에서 15000 원 사용\n",
            "네이버파이낸셜(주) 에서 24000 원 사용\n",
            "네이버파이낸셜(주) 에서 71500 원 사용\n",
            "(주)스타벅스커피코리아 에서 20000 원 사용\n",
            "파리바게뜨  양평비즈타워점 에서 1900 원 사용\n",
            "한살림서울생활협동조합신촌매장 에서 15450 원 사용\n",
            "(주)이마트  신촌점 에서 39200 원 사용\n",
            "에프알엘코리아(주) 에서 35700 원 사용\n",
            "(주)현대백화점신촌점 에서 5000 원 사용\n",
            "쿠팡 에서 78200 원 사용\n",
            "(주)우아한형제들 에서 28500 원 사용\n",
            "SSG.COM 에서 47911 원 사용\n",
            "(주)우아한형제들 에서 29000 원 사용\n",
            "SSG.COM 에서 7980 원 사용\n",
            "스타벅스코리아 에서 10000 원 사용\n",
            "쿠팡 에서 24840 원 사용\n",
            "네이버파이낸셜(주) 에서 23900 원 사용\n",
            "㈜젠코스메티코스 에서 60800 원 사용\n",
            "네이버파이낸셜(주) 에서 20110 원 사용\n",
            "쿠팡 에서 9300 원 사용\n",
            "(주)이마트  신촌점 에서 58610 원 사용\n",
            "카카오택시(선승인) 에서 7300 원 사용\n",
            "카카오 T_카카오페이 에서 1000 원 사용\n",
            "카카오페이(택시) 에서 5900 원 사용\n",
            "웃는하루치과 에서 23000 원 사용\n",
            "(주)파리크라상 쉐이크쉑 AK분당 에서 14800 원 사용\n",
            "CU 대구중구문화점 에서 10700 원 사용\n",
            "(주)스타벅스커피코리아 에서 20000 원 사용\n",
            "낙영찜갈비 에서 60000 원 사용\n",
            "카카오페이(택시)7 에서 9100 원 사용\n",
            "카카오페이(택시)1 에서 7700 원 사용\n",
            "카카오페이(택시) 에서 1000 원 사용\n",
            "지에스 25 수성유원지점 에서 4200 원 사용\n",
            "우즈베이커리카페 수성호수점 에서 15300 원 사용\n",
            "카카오페이(택시)7 에서 8200 원 사용\n",
            "카카오페이(택시)1 에서 8700 원 사용\n",
            "카카오페이(택시) 에서 1000 원 사용\n",
            "디지비유페이택시개인1 에서 6300 원 사용\n",
            "코레일유통(주)대구지점 에서 5700 원 사용\n",
            "코레일유통(주)대구지점 에서 2800 원 사용\n",
            "네이버파이낸셜(주) 에서 35800 원 사용\n",
            "티머니 법인택시 에서 13500 원 사용\n",
            "나폴레옹과자점 에서 9500 원 사용\n",
            "네이버파이낸셜(주) 에서 40420 원 사용\n",
            "티머니 법인택시 에서 3800 원 사용\n",
            "투썸플레이스 교대역점 에서 5100 원 사용\n",
            "고스트요거트 에서 4900 원 사용\n",
            "네이버파이낸셜(주) 에서 15480 원 사용\n",
            "(주)우아한형제들 에서 12000 원 사용\n",
            "(주)교보문고 에서 14860 원 사용\n",
            "스타벅스코리아 에서 10000 원 사용\n",
            "쉐프조 에서 7600 원 사용\n",
            "쿠팡 에서 69490 원 사용\n",
            "(주)우아한형제들 에서 25200 원 사용\n",
            "나폴레옹과자점 에서 29000 원 사용\n",
            "(주)이마트  신촌점 에서 33670 원 사용\n",
            "(주)우아한형제들 에서 4530 원 사용\n",
            "쿠팡 에서 19110 원 사용\n",
            "이니시스-정기과금 에서 100000 원 사용\n",
            "(주)현대백화점신촌점 에서 15000 원 사용\n",
            "나폴레옹과자점 에서 8800 원 사용\n",
            "고봉민김밥 에서 7500 원 사용\n",
            "(주)이마트  신촌점 에서 43630 원 사용\n",
            "카카오택시(선승인) 에서 5500 원 사용\n",
            "카카오 T_카카오페이 에서 1000 원 사용\n",
            "카카오페이(택시) 에서 4900 원 사용\n",
            "카페마마스타임스퀘어점 에서 16800 원 사용\n",
            "SSG.COM 에서 53961 원 사용\n",
            "쿠팡 에서 9290 원 사용\n",
            "KFC서울타임스퀘어 에서 14400 원 사용\n",
            "네이버페이 에서 350676 원 사용\n",
            "네이버페이 에서 24300 원 사용\n",
            "(주)현대백화점신촌점 에서 136400 원 사용\n",
            "쿠팡 에서 46920 원 사용\n",
            "카페마마스  강남역지점 에서 16800 원 사용\n",
            "(주)현대백화점신촌점 에서 51502 원 사용\n",
            "(주)현대백화점신촌점 에서 9200 원 사용\n",
            "(주)현대백화점신촌점 에서 15000 원 사용\n",
            "쿠팡 에서 16640 원 사용\n"
          ]
        }
      ],
      "source": [
        "# 카드 사용처와 금액 모두 출력하기\n",
        "for row in data : \n",
        "    store = row[5]\n",
        "    payment = row[6]\n",
        "    print(store,'에서',payment,'원 사용')"
      ]
    },
    {
      "cell_type": "markdown",
      "metadata": {
        "id": "1IpuG5Jvy7Vk"
      },
      "source": [
        "<img src = 'https://github.com/teacher-jiejie/allinone_AI/blob/images/21_%EB%8D%B0%EC%9D%B4%ED%84%B0%EB%B6%84%EC%84%9D_%EB%B0%98%EB%B3%B5%EB%AC%B82.png?raw=true' width=800>"
      ]
    },
    {
      "cell_type": "markdown",
      "metadata": {
        "id": "k2rdRhwfAkES"
      },
      "source": [
        "### 3개월간 사용한 총 금액 구하기\n",
        "\n",
        "프로그램 흐름 생각해보기 \n",
        "\n",
        "\n",
        "```\n",
        "1. 총 지출액을 저장할 변수(spend)를 만들고 초깃값 0 저장하기\n",
        "2. 전체 이용내역(data)을 돌며 반복하기\n",
        "  2.1 이용금액(row[-3])만 골라 총 지출액(spend)에 더하기\n",
        "```\n",
        "\n"
      ]
    },
    {
      "cell_type": "code",
      "execution_count": 36,
      "metadata": {
        "colab": {
          "base_uri": "https://localhost:8080/",
          "height": 207
        },
        "id": "XDbYFvliy61T",
        "outputId": "7a0f1eeb-d571-4703-cf76-e3132b2f89cb"
      },
      "outputs": [
        {
          "ename": "TypeError",
          "evalue": "unsupported operand type(s) for +=: 'int' and 'str'",
          "output_type": "error",
          "traceback": [
            "\u001b[1;31m---------------------------------------------------------------------------\u001b[0m",
            "\u001b[1;31mTypeError\u001b[0m                                 Traceback (most recent call last)",
            "Cell \u001b[1;32mIn[36], line 4\u001b[0m\n\u001b[0;32m      1\u001b[0m spend \u001b[38;5;241m=\u001b[39m \u001b[38;5;241m0\u001b[39m\n\u001b[0;32m      3\u001b[0m \u001b[38;5;28;01mfor\u001b[39;00m row \u001b[38;5;129;01min\u001b[39;00m data : \n\u001b[1;32m----> 4\u001b[0m     \u001b[43mspend\u001b[49m\u001b[43m \u001b[49m\u001b[38;5;241;43m+\u001b[39;49m\u001b[38;5;241;43m=\u001b[39;49m\u001b[43m \u001b[49m\u001b[43mrow\u001b[49m\u001b[43m[\u001b[49m\u001b[38;5;241;43m-\u001b[39;49m\u001b[38;5;241;43m3\u001b[39;49m\u001b[43m]\u001b[49m\n",
            "\u001b[1;31mTypeError\u001b[0m: unsupported operand type(s) for +=: 'int' and 'str'"
          ]
        }
      ],
      "source": [
        "spend = 0\n",
        "\n",
        "for row in data : \n",
        "    spend += row[-3]"
      ]
    },
    {
      "cell_type": "markdown",
      "metadata": {
        "id": "sk_9v2hLyrNk"
      },
      "source": [
        "> 파일로 읽어들인 데이터는 모두 문자이다.  </br>\n",
        "> 따라서 연산하려면 숫자로 변경해주어야 함!!"
      ]
    },
    {
      "cell_type": "markdown",
      "metadata": {
        "id": "ufHT8XZKBCLm"
      },
      "source": [
        "수정된 프로그램 흐름\n",
        "\n",
        "```\n",
        "1. 총 지출액을 저장할 변수(spend)를 만들고 초깃값 0 저장하기\n",
        "2. 전체 이용내역(data)을 돌며 반복하기\n",
        "  2.1 이용금액(row[-3])만 골라 정수형으로 변환한 후 총 지출액(spend)에 더하기\n",
        "```\n",
        "\n"
      ]
    },
    {
      "cell_type": "code",
      "execution_count": 37,
      "metadata": {
        "colab": {
          "base_uri": "https://localhost:8080/"
        },
        "id": "Oaq__8xwyu7P",
        "outputId": "07d68dff-609c-4d6a-cfc9-504da2cf6cf8"
      },
      "outputs": [
        {
          "name": "stdout",
          "output_type": "stream",
          "text": [
            "11419825\n"
          ]
        }
      ],
      "source": [
        "spend = 0\n",
        "\n",
        "for row in data : \n",
        "    spend += int(row[-3])\n",
        "\n",
        "print(spend)"
      ]
    },
    {
      "cell_type": "markdown",
      "metadata": {
        "id": "R2gvf4J8rS9s"
      },
      "source": [
        "매입상태를 잘 살펴보자 \n",
        "\n",
        "<img src='https://github.com/teacher-jiejie/allinone_AI/blob/images/64_%EC%B9%B4%EB%93%9C%EB%8D%B0%EC%9D%B4%ED%84%B0.png?raw=true' width=800>"
      ]
    },
    {
      "cell_type": "markdown",
      "metadata": {
        "id": "tLkg3gKbtAZe"
      },
      "source": [
        "수정된 프로그램 흐름\n",
        "\n",
        "```\n",
        "1. 총 지출액을 저장할 변수(spend)를 만들고 초깃값 0 저장하기\n",
        "2. 전체 이용내역(data)을 돌며 반복하기\n",
        "  2.1 매입상태(row[-1])가 '전표매입'이라면\n",
        "    2.1.1 이용금액(row[-3])만 골라 정수형으로 변환한 후 총 지출액(spend)에 더하기\n",
        "```\n",
        "\n"
      ]
    },
    {
      "cell_type": "code",
      "execution_count": 38,
      "metadata": {
        "colab": {
          "base_uri": "https://localhost:8080/"
        },
        "id": "-A7grbYry7JZ",
        "outputId": "6c5437a0-6e64-4eab-eba0-49c1d0f1656e"
      },
      "outputs": [
        {
          "name": "stdout",
          "output_type": "stream",
          "text": [
            "8174028\n"
          ]
        }
      ],
      "source": [
        "spend = 0\n",
        "\n",
        "for row in data : \n",
        "    if row[-1] == '전표매입' : \n",
        "        spend += int(row[-3])\n",
        "\n",
        "print(spend)"
      ]
    },
    {
      "cell_type": "markdown",
      "metadata": {
        "id": "eaU_IIKYFAi_"
      },
      "source": [
        "# 3. 진짜! 데이터 분석!"
      ]
    },
    {
      "cell_type": "markdown",
      "metadata": {
        "id": "KKcsbWawz7_8"
      },
      "source": [
        "\n",
        "### 1) 10월, 11월, 12월 지출액을 막대그래프로 그리기\n",
        "\n",
        "<img src='https://github.com/teacher-jiejie/allinone_AI/blob/images/83_%ED%95%98%EC%9C%84%EB%AA%A9%ED%91%9C1.png?raw=true' width=300>\n",
        "\n",
        "Q. 그래프로 표현하려면 plt.bar()안에 뭐가 필요할까?\n",
        "\n"
      ]
    },
    {
      "cell_type": "markdown",
      "metadata": {
        "id": "b0rJSIsNxZq4"
      },
      "source": [
        "<img src = 'https://github.com/teacher-jiejie/allinone_AI/blob/images/24_%EC%B9%B4%EB%93%9C%20%EB%A6%AC%EC%8A%A4%ED%8A%B8.png?raw=true' width = 400>\n",
        "\n",
        "</br>\n",
        "</br>\n",
        "\n",
        "*   10월 -> [0]\n",
        "*   11월 -> [1]\n",
        "*   12월 -> [2]\n",
        "\n",
        "</br>\n",
        "\n",
        "Q. 규칙을 발견하셨나요?\n"
      ]
    },
    {
      "cell_type": "code",
      "execution_count": null,
      "metadata": {
        "colab": {
          "base_uri": "https://localhost:8080/",
          "height": 36
        },
        "id": "DRJXI5T-2EPT",
        "outputId": "013a0110-4e13-4be4-fe53-ad0f44112eb3"
      },
      "outputs": [
        {
          "data": {
            "application/vnd.google.colaboratory.intrinsic+json": {
              "type": "string"
            },
            "text/plain": [
              "'2019-10-12 9:13'"
            ]
          },
          "execution_count": 54,
          "metadata": {
            "tags": []
          },
          "output_type": "execute_result"
        }
      ],
      "source": [
        "data[0][0]"
      ]
    },
    {
      "cell_type": "code",
      "execution_count": null,
      "metadata": {
        "colab": {
          "base_uri": "https://localhost:8080/",
          "height": 36
        },
        "id": "nzbtTm8H2Io6",
        "outputId": "d0495357-3826-4674-d6e2-58768cc20389"
      },
      "outputs": [
        {
          "data": {
            "text/plain": [
              "['2019', '10', '12 9:13']"
            ]
          },
          "execution_count": 55,
          "metadata": {
            "tags": []
          },
          "output_type": "execute_result"
        }
      ],
      "source": [
        "data[0][0].split('-')"
      ]
    },
    {
      "cell_type": "code",
      "execution_count": 40,
      "metadata": {},
      "outputs": [
        {
          "data": {
            "text/html": [
              "<div>\n",
              "<style scoped>\n",
              "    .dataframe tbody tr th:only-of-type {\n",
              "        vertical-align: middle;\n",
              "    }\n",
              "\n",
              "    .dataframe tbody tr th {\n",
              "        vertical-align: top;\n",
              "    }\n",
              "\n",
              "    .dataframe thead th {\n",
              "        text-align: right;\n",
              "    }\n",
              "</style>\n",
              "<table border=\"1\" class=\"dataframe\">\n",
              "  <thead>\n",
              "    <tr style=\"text-align: right;\">\n",
              "      <th></th>\n",
              "      <th>이용일시</th>\n",
              "      <th>승인번호</th>\n",
              "      <th>본인구분</th>\n",
              "      <th>브랜드</th>\n",
              "      <th>이용카드</th>\n",
              "      <th>가맹점명</th>\n",
              "      <th>이용금액</th>\n",
              "      <th>이용구분</th>\n",
              "      <th>매입상태</th>\n",
              "    </tr>\n",
              "  </thead>\n",
              "  <tbody>\n",
              "    <tr>\n",
              "      <th>0</th>\n",
              "      <td>2019-10-12 9:13</td>\n",
              "      <td>1972753</td>\n",
              "      <td>본</td>\n",
              "      <td>S&amp;</td>\n",
              "      <td>185</td>\n",
              "      <td>네이버파이낸셜(주)</td>\n",
              "      <td>546800</td>\n",
              "      <td>일시불(A)</td>\n",
              "      <td>부분취소</td>\n",
              "    </tr>\n",
              "    <tr>\n",
              "      <th>1</th>\n",
              "      <td>2019-10-12 11:56</td>\n",
              "      <td>3399357</td>\n",
              "      <td>본</td>\n",
              "      <td>S&amp;</td>\n",
              "      <td>185</td>\n",
              "      <td>GS  샵</td>\n",
              "      <td>60440</td>\n",
              "      <td>일시불(A)</td>\n",
              "      <td>전표매입</td>\n",
              "    </tr>\n",
              "    <tr>\n",
              "      <th>2</th>\n",
              "      <td>2019-10-13 9:16</td>\n",
              "      <td>12621902</td>\n",
              "      <td>본</td>\n",
              "      <td>S&amp;</td>\n",
              "      <td>185</td>\n",
              "      <td>G마켓</td>\n",
              "      <td>91520</td>\n",
              "      <td>P(A)</td>\n",
              "      <td>전표매입</td>\n",
              "    </tr>\n",
              "    <tr>\n",
              "      <th>3</th>\n",
              "      <td>2019-10-14 1:32</td>\n",
              "      <td>20726947</td>\n",
              "      <td>본</td>\n",
              "      <td>S&amp;</td>\n",
              "      <td>185</td>\n",
              "      <td>11번가</td>\n",
              "      <td>89810</td>\n",
              "      <td>일시불(A)</td>\n",
              "      <td>전표매입</td>\n",
              "    </tr>\n",
              "    <tr>\n",
              "      <th>4</th>\n",
              "      <td>2019-10-14 7:06</td>\n",
              "      <td>21234320</td>\n",
              "      <td>본</td>\n",
              "      <td>S&amp;</td>\n",
              "      <td>185</td>\n",
              "      <td>네이버파이낸셜(주)</td>\n",
              "      <td>33600</td>\n",
              "      <td>일시불(A)</td>\n",
              "      <td>전표매입</td>\n",
              "    </tr>\n",
              "  </tbody>\n",
              "</table>\n",
              "</div>"
            ],
            "text/plain": [
              "               이용일시      승인번호 본인구분 브랜드  이용카드        가맹점명    이용금액    이용구분  매입상태\n",
              "0   2019-10-12 9:13   1972753    본  S&   185  네이버파이낸셜(주)  546800  일시불(A)  부분취소\n",
              "1  2019-10-12 11:56   3399357    본  S&   185       GS  샵   60440  일시불(A)  전표매입\n",
              "2   2019-10-13 9:16  12621902    본  S&   185         G마켓   91520    P(A)  전표매입\n",
              "3   2019-10-14 1:32  20726947    본  S&   185        11번가   89810  일시불(A)  전표매입\n",
              "4   2019-10-14 7:06  21234320    본  S&   185  네이버파이낸셜(주)   33600  일시불(A)  전표매입"
            ]
          },
          "execution_count": 40,
          "metadata": {},
          "output_type": "execute_result"
        }
      ],
      "source": [
        "import pandas as pd\n",
        "import matplotlib.pyplot as plt\n",
        "df=pd.read_csv('card.csv')\n",
        "df.head()"
      ]
    },
    {
      "cell_type": "code",
      "execution_count": 44,
      "metadata": {},
      "outputs": [
        {
          "data": {
            "text/html": [
              "<div>\n",
              "<style scoped>\n",
              "    .dataframe tbody tr th:only-of-type {\n",
              "        vertical-align: middle;\n",
              "    }\n",
              "\n",
              "    .dataframe tbody tr th {\n",
              "        vertical-align: top;\n",
              "    }\n",
              "\n",
              "    .dataframe thead th {\n",
              "        text-align: right;\n",
              "    }\n",
              "</style>\n",
              "<table border=\"1\" class=\"dataframe\">\n",
              "  <thead>\n",
              "    <tr style=\"text-align: right;\">\n",
              "      <th></th>\n",
              "      <th>이용일시</th>\n",
              "      <th>승인번호</th>\n",
              "      <th>본인구분</th>\n",
              "      <th>브랜드</th>\n",
              "      <th>이용카드</th>\n",
              "      <th>가맹점명</th>\n",
              "      <th>이용금액</th>\n",
              "      <th>이용구분</th>\n",
              "      <th>매입상태</th>\n",
              "    </tr>\n",
              "  </thead>\n",
              "  <tbody>\n",
              "    <tr>\n",
              "      <th>0</th>\n",
              "      <td>2019-10-12 9:13</td>\n",
              "      <td>1972753</td>\n",
              "      <td>본</td>\n",
              "      <td>S&amp;</td>\n",
              "      <td>185</td>\n",
              "      <td>네이버파이낸셜(주)</td>\n",
              "      <td>546800</td>\n",
              "      <td>일시불(A)</td>\n",
              "      <td>부분취소</td>\n",
              "    </tr>\n",
              "    <tr>\n",
              "      <th>87</th>\n",
              "      <td>2019-11-07 8:00</td>\n",
              "      <td>31861478</td>\n",
              "      <td>본</td>\n",
              "      <td>S&amp;</td>\n",
              "      <td>185</td>\n",
              "      <td>스마일페이 (신라면세점)</td>\n",
              "      <td>476736</td>\n",
              "      <td>03개월</td>\n",
              "      <td>전표매입</td>\n",
              "    </tr>\n",
              "    <tr>\n",
              "      <th>227</th>\n",
              "      <td>2019-12-29 18:20</td>\n",
              "      <td>1245571</td>\n",
              "      <td>본</td>\n",
              "      <td>S&amp;</td>\n",
              "      <td>185</td>\n",
              "      <td>네이버페이</td>\n",
              "      <td>350676</td>\n",
              "      <td>03개월</td>\n",
              "      <td>전표매입</td>\n",
              "    </tr>\n",
              "    <tr>\n",
              "      <th>67</th>\n",
              "      <td>2019-11-03 9:00</td>\n",
              "      <td>41065405</td>\n",
              "      <td>본</td>\n",
              "      <td>S&amp;</td>\n",
              "      <td>185</td>\n",
              "      <td>신라면세점</td>\n",
              "      <td>339125</td>\n",
              "      <td>03개월(A)</td>\n",
              "      <td>매출취소</td>\n",
              "    </tr>\n",
              "    <tr>\n",
              "      <th>5</th>\n",
              "      <td>2019-10-15 23:32</td>\n",
              "      <td>42229559</td>\n",
              "      <td>본</td>\n",
              "      <td>S&amp;</td>\n",
              "      <td>185</td>\n",
              "      <td>네이버파이낸셜(주)</td>\n",
              "      <td>309600</td>\n",
              "      <td>일시불(A)</td>\n",
              "      <td>부분취소</td>\n",
              "    </tr>\n",
              "  </tbody>\n",
              "</table>\n",
              "</div>"
            ],
            "text/plain": [
              "                 이용일시      승인번호 본인구분 브랜드  이용카드           가맹점명    이용금액  \\\n",
              "0     2019-10-12 9:13   1972753    본  S&   185     네이버파이낸셜(주)  546800   \n",
              "87    2019-11-07 8:00  31861478    본  S&   185  스마일페이 (신라면세점)  476736   \n",
              "227  2019-12-29 18:20   1245571    본  S&   185          네이버페이  350676   \n",
              "67    2019-11-03 9:00  41065405    본  S&   185          신라면세점  339125   \n",
              "5    2019-10-15 23:32  42229559    본  S&   185     네이버파이낸셜(주)  309600   \n",
              "\n",
              "        이용구분  매입상태  \n",
              "0     일시불(A)  부분취소  \n",
              "87      03개월  전표매입  \n",
              "227     03개월  전표매입  \n",
              "67   03개월(A)  매출취소  \n",
              "5     일시불(A)  부분취소  "
            ]
          },
          "execution_count": 44,
          "metadata": {},
          "output_type": "execute_result"
        }
      ],
      "source": [
        "#이용금액 많은 곳 상위 5개\n",
        "df.sort_values(by='이용금액', ascending=False).head(5)"
      ]
    },
    {
      "cell_type": "code",
      "execution_count": 62,
      "metadata": {},
      "outputs": [
        {
          "data": {
            "text/html": [
              "<div>\n",
              "<style scoped>\n",
              "    .dataframe tbody tr th:only-of-type {\n",
              "        vertical-align: middle;\n",
              "    }\n",
              "\n",
              "    .dataframe tbody tr th {\n",
              "        vertical-align: top;\n",
              "    }\n",
              "\n",
              "    .dataframe thead th {\n",
              "        text-align: right;\n",
              "    }\n",
              "</style>\n",
              "<table border=\"1\" class=\"dataframe\">\n",
              "  <thead>\n",
              "    <tr style=\"text-align: right;\">\n",
              "      <th></th>\n",
              "      <th>이용금액</th>\n",
              "    </tr>\n",
              "  </thead>\n",
              "  <tbody>\n",
              "    <tr>\n",
              "      <th>0</th>\n",
              "      <td>100</td>\n",
              "    </tr>\n",
              "    <tr>\n",
              "      <th>1</th>\n",
              "      <td>150</td>\n",
              "    </tr>\n",
              "    <tr>\n",
              "      <th>2</th>\n",
              "      <td>200</td>\n",
              "    </tr>\n",
              "    <tr>\n",
              "      <th>3</th>\n",
              "      <td>250</td>\n",
              "    </tr>\n",
              "    <tr>\n",
              "      <th>4</th>\n",
              "      <td>300</td>\n",
              "    </tr>\n",
              "  </tbody>\n",
              "</table>\n",
              "</div>"
            ],
            "text/plain": [
              "   이용금액\n",
              "0   100\n",
              "1   150\n",
              "2   200\n",
              "3   250\n",
              "4   300"
            ]
          },
          "execution_count": 62,
          "metadata": {},
          "output_type": "execute_result"
        }
      ],
      "source": [
        "df.sort_values(by='이용금액', ascending=True).head(5)"
      ]
    },
    {
      "cell_type": "code",
      "execution_count": 77,
      "metadata": {},
      "outputs": [
        {
          "data": {
            "text/html": [
              "<div>\n",
              "<style scoped>\n",
              "    .dataframe tbody tr th:only-of-type {\n",
              "        vertical-align: middle;\n",
              "    }\n",
              "\n",
              "    .dataframe tbody tr th {\n",
              "        vertical-align: top;\n",
              "    }\n",
              "\n",
              "    .dataframe thead th {\n",
              "        text-align: right;\n",
              "    }\n",
              "</style>\n",
              "<table border=\"1\" class=\"dataframe\">\n",
              "  <thead>\n",
              "    <tr style=\"text-align: right;\">\n",
              "      <th></th>\n",
              "      <th>이용금액</th>\n",
              "    </tr>\n",
              "  </thead>\n",
              "  <tbody>\n",
              "  </tbody>\n",
              "</table>\n",
              "</div>"
            ],
            "text/plain": [
              "Empty DataFrame\n",
              "Columns: [이용금액]\n",
              "Index: []"
            ]
          },
          "execution_count": 77,
          "metadata": {},
          "output_type": "execute_result"
        }
      ],
      "source": [
        "df[df['이용금액'].isnull()]"
      ]
    },
    {
      "cell_type": "markdown",
      "metadata": {},
      "source": [
        "df.set_index('0', inplace=True)\n",
        "df.head()"
      ]
    },
    {
      "cell_type": "code",
      "execution_count": 1,
      "metadata": {},
      "outputs": [
        {
          "data": {
            "image/png": "[encoded data removed]",
            "text/plain": [
              "<Figure size 640x480 with 1 Axes>"
            ]
          },
          "metadata": {},
          "output_type": "display_data"
        },
        {
          "name": "stdout",
          "output_type": "stream",
          "text": [
            "평균: 200.0\n",
            "분산: 5000.0\n",
            "표준 편차: 79.05694150420949\n"
          ]
        }
      ],
      "source": [
        "import pandas as pd\n",
        "import matplotlib.pyplot as plt\n",
        "import numpy as np\n",
        "plt.rcParams['font.family'] ='Malgun Gothic'\n",
        "# Assuming df is your DataFrame and '이용금액' is the column you want to analyze\n",
        "# For demonstration purposes, let's create a sample DataFrame\n",
        "data = {'이용금액': [100, 150, 200, 250, 300]}\n",
        "df = pd.DataFrame(data)\n",
        "\n",
        "# Plotting the '이용금액' column\n",
        "plt.plot(df['이용금액'], 'ro')\n",
        "plt.title('이용금액')\n",
        "plt.xlabel('Index')\n",
        "plt.ylabel('이용금액')\n",
        "plt.show()\n",
        "\n",
        "# Calculate mean and variance\n",
        "mean_value = np.mean(df['이용금액'])\n",
        "variance_value = np.var(df['이용금액'])\n",
        "\n",
        "print(\"평균:\", mean_value)\n",
        "print(\"분산:\", variance_value)\n",
        "std_deviation_pandas = df['이용금액'].std()\n",
        "print(\"표준 편차:\", std_deviation_pandas)\n"
      ]
    },
    {
      "cell_type": "code",
      "execution_count": 66,
      "metadata": {},
      "outputs": [
        {
          "data": {
            "text/plain": [
              "{'whiskers': [<matplotlib.lines.Line2D at 0x1667a6c7b30>,\n",
              "  <matplotlib.lines.Line2D at 0x1667a6c7e60>],\n",
              " 'caps': [<matplotlib.lines.Line2D at 0x1667a6c81a0>,\n",
              "  <matplotlib.lines.Line2D at 0x1667a6c84a0>],\n",
              " 'boxes': [<matplotlib.lines.Line2D at 0x1667a6c7890>],\n",
              " 'medians': [<matplotlib.lines.Line2D at 0x1667a6c8770>],\n",
              " 'fliers': [<matplotlib.lines.Line2D at 0x1667a6c8a40>],\n",
              " 'means': []}"
            ]
          },
          "execution_count": 66,
          "metadata": {},
          "output_type": "execute_result"
        },
        {
          "data": {
            "image/png": "[encoded data removed]",
            "text/plain": [
              "<Figure size 640x480 with 1 Axes>"
            ]
          },
          "metadata": {},
          "output_type": "display_data"
        }
      ],
      "source": [
        "plt.boxplot(df['이용금액'])"
      ]
    },
    {
      "cell_type": "markdown",
      "metadata": {
        "id": "gfP5bwPUCs7V"
      },
      "source": [
        "프로그램 흐름 생각해보기 \n",
        "\n",
        "\n",
        "```\n",
        "1. 10~12월의 월별 지출액을 저장할 리스트(s_mon)를 만들고 초깃값 0 저장하기\n",
        "2. 전체 이용내역(data)을 돌며 반복하기\n",
        "  2.1 각 이용내역에서 매입상태가 '전표매입'이라면\n",
        "    2.1.1 해당 건의 이용월과 이용금액 구하기 \n",
        "    2.1.2. 이용월에서 10을 빼 월별 지출액 리스트(s_mon)의 인덱스(idx) 구하기\n",
        "    2.1.3 과정 2.1.2에서 구한 인덱스의 값(s_mon[idx])에 과정 2.1.1에서 구한 이용금액 더하기\n",
        "3. 월별 지출액 리스트(s_mon)로 막대그래프 그리기\n",
        "```\n",
        "\n"
      ]
    },
    {
      "cell_type": "code",
      "execution_count": null,
      "metadata": {
        "colab": {
          "base_uri": "https://localhost:8080/",
          "height": 251
        },
        "id": "t2ja02zPy7L7",
        "outputId": "7b412c98-8e30-49c5-f020-367de0a99cb3"
      },
      "outputs": [
        {
          "ename": "TypeError",
          "evalue": "ignored",
          "output_type": "error",
          "traceback": [
            "\u001b[0;31m---------------------------------------------------------------------------\u001b[0m",
            "\u001b[0;31mTypeError\u001b[0m                                 Traceback (most recent call last)",
            "\u001b[0;32m<ipython-input-60-49bddc8126d0>\u001b[0m in \u001b[0;36m<module>\u001b[0;34m()\u001b[0m\n\u001b[1;32m      6\u001b[0m     \u001b[0;32mif\u001b[0m \u001b[0mrow\u001b[0m\u001b[0;34m[\u001b[0m\u001b[0;34m-\u001b[0m\u001b[0;36m1\u001b[0m\u001b[0;34m]\u001b[0m \u001b[0;34m==\u001b[0m \u001b[0;34m'전표매입'\u001b[0m \u001b[0;34m:\u001b[0m\u001b[0;34m\u001b[0m\u001b[0;34m\u001b[0m\u001b[0m\n\u001b[1;32m      7\u001b[0m         \u001b[0mmon\u001b[0m \u001b[0;34m=\u001b[0m \u001b[0mrow\u001b[0m\u001b[0;34m[\u001b[0m\u001b[0;36m0\u001b[0m\u001b[0;34m]\u001b[0m\u001b[0;34m.\u001b[0m\u001b[0msplit\u001b[0m\u001b[0;34m(\u001b[0m\u001b[0;34m'-'\u001b[0m\u001b[0;34m)\u001b[0m\u001b[0;34m[\u001b[0m\u001b[0;36m1\u001b[0m\u001b[0;34m]\u001b[0m\u001b[0;34m\u001b[0m\u001b[0;34m\u001b[0m\u001b[0m\n\u001b[0;32m----> 8\u001b[0;31m         \u001b[0midx\u001b[0m \u001b[0;34m=\u001b[0m \u001b[0mmon\u001b[0m \u001b[0;34m-\u001b[0m \u001b[0;36m10\u001b[0m\u001b[0;34m\u001b[0m\u001b[0;34m\u001b[0m\u001b[0m\n\u001b[0m\u001b[1;32m      9\u001b[0m         \u001b[0mpayment\u001b[0m \u001b[0;34m=\u001b[0m \u001b[0mint\u001b[0m\u001b[0;34m(\u001b[0m\u001b[0mrow\u001b[0m\u001b[0;34m[\u001b[0m\u001b[0;36m6\u001b[0m\u001b[0;34m]\u001b[0m\u001b[0;34m)\u001b[0m\u001b[0;34m\u001b[0m\u001b[0;34m\u001b[0m\u001b[0m\n\u001b[1;32m     10\u001b[0m         \u001b[0mspend\u001b[0m\u001b[0;34m[\u001b[0m\u001b[0midx\u001b[0m\u001b[0;34m]\u001b[0m \u001b[0;34m+=\u001b[0m \u001b[0mpayment\u001b[0m\u001b[0;34m\u001b[0m\u001b[0;34m\u001b[0m\u001b[0m\n",
            "\u001b[0;31mTypeError\u001b[0m: unsupported operand type(s) for -: 'str' and 'int'"
          ]
        }
      ],
      "source": [
        "s_mon = [0, 0, 0]\n",
        "\n",
        "for row in data : \n",
        "    if row[-1] == '전표매입' : \n",
        "        mon = row[0].split('-')[1]   \n",
        "        idx = mon - 10                \n",
        "        payment = int(row[6])\n",
        "        s_mon[idx] += payment\n",
        "\n",
        "print(s_mon)"
      ]
    },
    {
      "cell_type": "code",
      "execution_count": null,
      "metadata": {
        "colab": {
          "base_uri": "https://localhost:8080/",
          "height": 36
        },
        "id": "HTNFp2EZy7OD",
        "outputId": "10923fe9-aa42-4a1b-ad15-c5dba54f6977"
      },
      "outputs": [
        {
          "name": "stdout",
          "output_type": "stream",
          "text": [
            "[2093015, 4127744, 1953269]\n"
          ]
        }
      ],
      "source": [
        "s_mon = [0, 0, 0]\n",
        "\n",
        "for row in data : \n",
        "    if row[-1] == '전표매입' : \n",
        "        mon = int(row[0].split('-')[1]) \n",
        "        idx = mon - 10                \n",
        "        payment = int(row[6])\n",
        "        s_mon[idx] += payment\n",
        "\n",
        "print(s_mon)"
      ]
    },
    {
      "cell_type": "code",
      "execution_count": null,
      "metadata": {
        "colab": {
          "base_uri": "https://localhost:8080/"
        },
        "id": "i2-cuPNs2y9d",
        "outputId": "074c6842-a993-467d-c70d-3c58ff78aa98"
      },
      "outputs": [
        {
          "name": "stdout",
          "output_type": "stream",
          "text": [
            "[2093015, 4127744, 1953269]\n"
          ]
        }
      ],
      "source": [
        "# 초간단ver\n",
        "s_mon = [0, 0, 0]\n",
        "\n",
        "for row in data : \n",
        "    if row[-1] == '전표매입' : \n",
        "        s_mon[int(row[0].split('-')[1]) - 10 ] += int(row[6])\n",
        "\n",
        "print(s_mon)"
      ]
    },
    {
      "cell_type": "code",
      "execution_count": null,
      "metadata": {
        "colab": {
          "base_uri": "https://localhost:8080/",
          "height": 383
        },
        "id": "VxmnUsvcy7Qq",
        "outputId": "6cd86989-37f4-4426-870f-cfae595fec33"
      },
      "outputs": [
        {
          "data": {
            "image/png": "[encoded data removed]",
            "text/plain": [
              "<Figure size 600x400 with 1 Axes>"
            ]
          },
          "metadata": {
            "needs_background": "light",
            "tags": []
          },
          "output_type": "display_data"
        }
      ],
      "source": [
        "import matplotlib.pyplot as plt\n",
        "\n",
        "plt.figure(dpi=100)\n",
        "plt.rc('font',family ='NanumGothic')\n",
        "plt.title('10-12월 지출현황')\n",
        "plt.bar(['10월','11월','12월'], s_mon, color = 'royalblue')\n",
        "plt.show()"
      ]
    },
    {
      "cell_type": "markdown",
      "metadata": {
        "id": "dfK9j1ZQSrBX"
      },
      "source": [
        "지수표기법 e를 검색해보세요!"
      ]
    },
    {
      "cell_type": "markdown",
      "metadata": {
        "id": "CJIzyZgU3nAD"
      },
      "source": [
        "### 2) 월별 택시 이용 금액 구하기"
      ]
    },
    {
      "cell_type": "markdown",
      "metadata": {
        "id": "s2wFwrVoCyaS"
      },
      "source": [
        "프로그램 흐름 생각해보기 \n",
        "\n",
        "\n",
        "```\n",
        "1. 10-12월의 월별 택시비 지출액을 저장할 리스트(taxi)를 만들고 각 월별 택시 지출액의 초깃값을 0으로 저장하기\n",
        "2. 전체 이용내역(data)를 돌며 반복하기\n",
        "  2.1 매입상태(row[-1])가 '전표매입'이고, 가맹점명에 '택시'가 있다면\n",
        "    2.1.1 해당 건의 이용월 구하고, 이용금액도 구하기\n",
        "    2.1.2 이용월에서 10을 빼서 taxi의 인덱스 구하기\n",
        "    2.1.3 taxi[인덱스] += 이용금액\n",
        "3. 월별 지출액 리스트로 막대그래프 그리기\n",
        "```\n",
        "\n"
      ]
    },
    {
      "cell_type": "code",
      "execution_count": null,
      "metadata": {
        "colab": {
          "base_uri": "https://localhost:8080/",
          "height": 409
        },
        "id": "NAKsjo--zCXX",
        "outputId": "47cab11b-2433-447e-a7b2-8b051d387251"
      },
      "outputs": [
        {
          "name": "stdout",
          "output_type": "stream",
          "text": [
            "카카오페이(택시) 10 월 [4200, 0, 0]\n",
            "티머니 개인택시 10 월 [8600, 0, 0]\n",
            "티머니 개인택시 11 월 [8600, 4700, 0]\n",
            "티머니 개인택시 11 월 [8600, 12800, 0]\n",
            "카카오페이(택시) 11 월 [8600, 19600, 0]\n",
            "카카오페이(택시) 11 월 [8600, 24600, 0]\n",
            "티머니 개인택시 11 월 [8600, 34700, 0]\n",
            "카카오페이(택시) 11 월 [8600, 62600, 0]\n",
            "카카오페이(택시) 11 월 [8600, 73000, 0]\n",
            "카카오페이(택시) 11 월 [8600, 78600, 0]\n",
            "카카오페이(택시) 11 월 [8600, 83900, 0]\n",
            "카카오페이(택시) 12 월 [8600, 83900, 5900]\n",
            "카카오페이(택시)1 12 월 [8600, 83900, 13600]\n",
            "카카오페이(택시) 12 월 [8600, 83900, 14600]\n",
            "카카오페이(택시)1 12 월 [8600, 83900, 23300]\n",
            "카카오페이(택시) 12 월 [8600, 83900, 24300]\n",
            "디지비유페이택시개인1 12 월 [8600, 83900, 30600]\n",
            "티머니 법인택시 12 월 [8600, 83900, 44100]\n",
            "티머니 법인택시 12 월 [8600, 83900, 47900]\n",
            "카카오페이(택시) 12 월 [8600, 83900, 52800]\n",
            "[8600, 83900, 52800]\n"
          ]
        }
      ],
      "source": [
        "taxi = [0, 0, 0]\n",
        "\n",
        "for row in data : \n",
        "    if row[-1] == '전표매입' and '택시' in row[5] : \n",
        "        mon = int(row[0].split('-')[1])\n",
        "        payment = int(row[-3])\n",
        "        idx = mon-10\n",
        "        taxi[idx] += payment\n",
        "\n",
        "print(taxi)"
      ]
    },
    {
      "cell_type": "code",
      "execution_count": null,
      "metadata": {
        "colab": {
          "base_uri": "https://localhost:8080/"
        },
        "id": "k9rWiM2y31QN",
        "outputId": "d210efe6-15cf-4908-bcfe-bf05f7667b02"
      },
      "outputs": [
        {
          "name": "stdout",
          "output_type": "stream",
          "text": [
            "[8600, 83900, 52800]\n"
          ]
        }
      ],
      "source": [
        "# 초간단 ver\n",
        "taxi = [0,0,0]\n",
        "\n",
        "for row in data : \n",
        "    if row[-1] == '전표매입' and '택시' in row[5] : \n",
        "        taxi[int(row[0].split('-')[1])-10] += int(row[-3])\n",
        "\n",
        "print(taxi)"
      ]
    },
    {
      "cell_type": "code",
      "execution_count": null,
      "metadata": {
        "colab": {
          "base_uri": "https://localhost:8080/",
          "height": 383
        },
        "id": "eC-54uUm31So",
        "outputId": "d133940c-76e1-40a3-9626-a4e9bf501350"
      },
      "outputs": [
        {
          "data": {
            "image/png": "[encoded data removed]",
            "text/plain": [
              "<Figure size 600x400 with 1 Axes>"
            ]
          },
          "metadata": {
            "needs_background": "light",
            "tags": []
          },
          "output_type": "display_data"
        }
      ],
      "source": [
        "plt.figure(dpi=100)\n",
        "plt.title('10-12월 택시비 지출 현황')\n",
        "plt.plot(['10월','11월','12월'],taxi, color = 'crimson', label ='택시 지출액')\n",
        "plt.legend()\n",
        "plt.show()"
      ]
    },
    {
      "cell_type": "markdown",
      "metadata": {
        "id": "9yQp40sX31ar"
      },
      "source": [
        "### 3) 월별 배달 이용 금액 구하기"
      ]
    },
    {
      "cell_type": "code",
      "execution_count": null,
      "metadata": {
        "colab": {
          "base_uri": "https://localhost:8080/"
        },
        "id": "IU4xutnd31VM",
        "outputId": "fd269903-6287-4f06-ae82-54d795aa1e15"
      },
      "outputs": [
        {
          "name": "stdout",
          "output_type": "stream",
          "text": [
            "[134300, 127900, 99230]\n"
          ]
        }
      ],
      "source": [
        "deli = [0,0,0]\n",
        "\n",
        "for row in data : \n",
        "    if row[-1] == '전표매입' and row[5] == '(주)우아한형제들': \n",
        "        mon = int(row[0].split('-')[1])\n",
        "        idx = mon-10\n",
        "        payment = int(row[-3])        \n",
        "        deli[idx] += payment\n",
        "\n",
        "print(deli)"
      ]
    },
    {
      "cell_type": "code",
      "execution_count": null,
      "metadata": {
        "colab": {
          "base_uri": "https://localhost:8080/",
          "height": 383
        },
        "id": "nIoEOuNJ31fz",
        "outputId": "1a979c9d-a9cb-498a-d14c-7cd1ec684725"
      },
      "outputs": [
        {
          "data": {
            "image/png": "[encoded data removed]",
            "text/plain": [
              "<Figure size 600x400 with 1 Axes>"
            ]
          },
          "metadata": {
            "needs_background": "light",
            "tags": []
          },
          "output_type": "display_data"
        }
      ],
      "source": [
        "plt.figure(dpi=100)\n",
        "\n",
        "plt.title('10-12월 배달음식 지출 현황')\n",
        "plt.plot(['10월','11월','12월'], deli, color = 'indigo', label ='배달음식 지출액')\n",
        "plt.legend()\n",
        "plt.show()"
      ]
    },
    {
      "cell_type": "markdown",
      "metadata": {
        "id": "A2F6ROi_4Rix"
      },
      "source": [
        "### 4) 택시 지출액과 배달음식 지출액 비교하기\n",
        "\n",
        "<img src='https://github.com/Ahnjihye/allinone_AI/blob/images/84_%ED%95%98%EC%9C%84%EB%AA%A9%ED%91%9C2.png?raw=true' width=300>"
      ]
    },
    {
      "cell_type": "markdown",
      "metadata": {
        "id": "DU3V80mxS9Mh"
      },
      "source": [
        "여러 그래프 한 번에 표시하기\n",
        "\n",
        "\n",
        "```\n",
        "# 그래프 그리는 명령어를 여러개 작성하고, plt.show()를 마지막에 한번만 작성\n",
        "plt.plot(리스트A)\n",
        "plt.plot(리스트B)\n",
        "plt.show()\n",
        "```\n",
        "\n"
      ]
    },
    {
      "cell_type": "code",
      "execution_count": null,
      "metadata": {
        "colab": {
          "base_uri": "https://localhost:8080/",
          "height": 383
        },
        "id": "tXcHIDs7-k9E",
        "outputId": "4debd049-dfda-4907-bf16-ec956e956656"
      },
      "outputs": [
        {
          "data": {
            "image/png": "[encoded data removed]",
            "text/plain": [
              "<Figure size 600x400 with 1 Axes>"
            ]
          },
          "metadata": {
            "needs_background": "light",
            "tags": []
          },
          "output_type": "display_data"
        }
      ],
      "source": [
        "plt.figure(dpi=100)\n",
        "\n",
        "plt.title('10-12월 택시/배달음식 지출 현황')\n",
        "\n",
        "plt.plot(['10월', '11월','12월'], taxi, color = 'crimson', label = '택시 지출액')\n",
        "plt.plot(['10월','11월','12월'], deli, color = 'indigo', label='배달음식 지출액')\n",
        "\n",
        "plt.legend()\n",
        "plt.show()"
      ]
    },
    {
      "cell_type": "code",
      "execution_count": null,
      "metadata": {
        "id": "yADCELZdK792"
      },
      "outputs": [],
      "source": []
    }
  ],
  "metadata": {
    "colab": {
      "authorship_tag": "ABX9TyOW9Jefxe6WnxqtlVj/XJKL",
      "collapsed_sections": [],
      "include_colab_link": true,
      "name": "9장-(완성본)-데이터분석 기초.ipynb",
      "provenance": []
    },
    "kernelspec": {
      "display_name": "Python 3",
      "name": "python3"
    },
    "language_info": {
      "codemirror_mode": {
        "name": "ipython",
        "version": 3
      },
      "file_extension": ".py",
      "mimetype": "text/x-python",
      "name": "python",
      "nbconvert_exporter": "python",
      "pygments_lexer": "ipython3",
      "version": "3.12.0"
    }
  },
  "nbformat": 4,
  "nbformat_minor": 0
}
